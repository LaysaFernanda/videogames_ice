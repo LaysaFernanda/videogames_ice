{
 "cells": [
  {
   "cell_type": "markdown",
   "metadata": {},
   "source": [
    "# Introdução\n",
    "\n",
    "Você trabalha para a loja online Ice, que vende videogames no mundo todo. As avaliações de usuários e especialistas, gêneros, plataformas (por exemplo, Xbox ou PlayStation) e dados históricos sobre vendas de jogos estão disponíveis em fontes abertas. Você precisa identificar padrões que determinam se um jogo tem sucesso ou não. Isso permitirá que você identifique potenciais grandes vencedores e planeje campanhas publicitárias.\n",
    "\n",
    "Na sua frente estão dados que remontam a 2016. Vamos imaginar que estamos em dezembro de 2016 e você está planejando uma campanha para 2017.\n",
    "\n",
    "O conjunto de dados contém a abreviatura ESRB. O Entertainment Software Rating Board avalia o conteúdo de um jogo e atribui uma classificação etária, como Adolescente ou Maduro."
   ]
  },
  {
   "cell_type": "markdown",
   "metadata": {},
   "source": [
    "## Inicialização"
   ]
  },
  {
   "cell_type": "code",
   "execution_count": 1,
   "metadata": {},
   "outputs": [],
   "source": [
    "import pandas as pd\n",
    "from scipy import stats as st\n",
    "import seaborn as sns\n",
    "import numpy as np "
   ]
  },
  {
   "cell_type": "markdown",
   "metadata": {},
   "source": [
    "## Carregar dados"
   ]
  },
  {
   "cell_type": "code",
   "execution_count": 2,
   "metadata": {},
   "outputs": [],
   "source": [
    "dados = pd.read_csv('/datasets/games.csv')"
   ]
  },
  {
   "cell_type": "markdown",
   "metadata": {},
   "source": [
    "## Explore os dados iniciais"
   ]
  },
  {
   "cell_type": "markdown",
   "metadata": {},
   "source": [
    "Descrição de dados:\n",
    "- `Name` - (nome)\n",
    "- `Platform` - (plataforma)\n",
    "- `Year_of_Release` - (Ano de lançamento)\n",
    "- `Genre` - (gênero)\n",
    "- `NA_sales` - (vendas norte-americanas em milhões de USD)\n",
    "- `EU_sales` - (vendas na Europa em milhões de USD)\n",
    "- `JP_sales` - (vendas no Japão em milhões de USD)\n",
    "- `Other_sales` - (vendas em outros países em em milhões de USD)\n",
    "- `Critic_Score` - (Pontuação crítica) (máximo de 100)\n",
    "- `User_Score` - (Pontuação do usuário) (máximo de 10)\n",
    "- `Classificação` - (ESRB)"
   ]
  },
  {
   "cell_type": "code",
   "execution_count": 3,
   "metadata": {
    "scrolled": true
   },
   "outputs": [
    {
     "name": "stdout",
     "output_type": "stream",
     "text": [
      "<class 'pandas.core.frame.DataFrame'>\n",
      "RangeIndex: 16715 entries, 0 to 16714\n",
      "Data columns (total 11 columns):\n",
      " #   Column           Non-Null Count  Dtype  \n",
      "---  ------           --------------  -----  \n",
      " 0   Name             16713 non-null  object \n",
      " 1   Platform         16715 non-null  object \n",
      " 2   Year_of_Release  16446 non-null  float64\n",
      " 3   Genre            16713 non-null  object \n",
      " 4   NA_sales         16715 non-null  float64\n",
      " 5   EU_sales         16715 non-null  float64\n",
      " 6   JP_sales         16715 non-null  float64\n",
      " 7   Other_sales      16715 non-null  float64\n",
      " 8   Critic_Score     8137 non-null   float64\n",
      " 9   User_Score       10014 non-null  object \n",
      " 10  Rating           9949 non-null   object \n",
      "dtypes: float64(6), object(5)\n",
      "memory usage: 1.4+ MB\n"
     ]
    }
   ],
   "source": [
    "# Informações gerais/resumidas sobre o DataFrame\n",
    "dados.info()"
   ]
  },
  {
   "cell_type": "markdown",
   "metadata": {},
   "source": [
    "- A colunas 'Name', 'Year_of_Release', 'Genre', 'Critical_Score', 'User_Score', 'Rating' possuem valores ausentes. \n",
    "- A coluna 'User_Score' deveria ser do tipo float. \n",
    "- A coluna 'Year_of_Release' deveria ser do tipo int."
   ]
  },
  {
   "cell_type": "code",
   "execution_count": 4,
   "metadata": {
    "scrolled": true
   },
   "outputs": [
    {
     "data": {
      "text/html": [
       "<div>\n",
       "<style scoped>\n",
       "    .dataframe tbody tr th:only-of-type {\n",
       "        vertical-align: middle;\n",
       "    }\n",
       "\n",
       "    .dataframe tbody tr th {\n",
       "        vertical-align: top;\n",
       "    }\n",
       "\n",
       "    .dataframe thead th {\n",
       "        text-align: right;\n",
       "    }\n",
       "</style>\n",
       "<table border=\"1\" class=\"dataframe\">\n",
       "  <thead>\n",
       "    <tr style=\"text-align: right;\">\n",
       "      <th></th>\n",
       "      <th>Name</th>\n",
       "      <th>Platform</th>\n",
       "      <th>Year_of_Release</th>\n",
       "      <th>Genre</th>\n",
       "      <th>NA_sales</th>\n",
       "      <th>EU_sales</th>\n",
       "      <th>JP_sales</th>\n",
       "      <th>Other_sales</th>\n",
       "      <th>Critic_Score</th>\n",
       "      <th>User_Score</th>\n",
       "      <th>Rating</th>\n",
       "    </tr>\n",
       "  </thead>\n",
       "  <tbody>\n",
       "    <tr>\n",
       "      <th>0</th>\n",
       "      <td>Wii Sports</td>\n",
       "      <td>Wii</td>\n",
       "      <td>2006.0</td>\n",
       "      <td>Sports</td>\n",
       "      <td>41.36</td>\n",
       "      <td>28.96</td>\n",
       "      <td>3.77</td>\n",
       "      <td>8.45</td>\n",
       "      <td>76.0</td>\n",
       "      <td>8</td>\n",
       "      <td>E</td>\n",
       "    </tr>\n",
       "    <tr>\n",
       "      <th>1</th>\n",
       "      <td>Super Mario Bros.</td>\n",
       "      <td>NES</td>\n",
       "      <td>1985.0</td>\n",
       "      <td>Platform</td>\n",
       "      <td>29.08</td>\n",
       "      <td>3.58</td>\n",
       "      <td>6.81</td>\n",
       "      <td>0.77</td>\n",
       "      <td>NaN</td>\n",
       "      <td>NaN</td>\n",
       "      <td>NaN</td>\n",
       "    </tr>\n",
       "    <tr>\n",
       "      <th>2</th>\n",
       "      <td>Mario Kart Wii</td>\n",
       "      <td>Wii</td>\n",
       "      <td>2008.0</td>\n",
       "      <td>Racing</td>\n",
       "      <td>15.68</td>\n",
       "      <td>12.76</td>\n",
       "      <td>3.79</td>\n",
       "      <td>3.29</td>\n",
       "      <td>82.0</td>\n",
       "      <td>8.3</td>\n",
       "      <td>E</td>\n",
       "    </tr>\n",
       "    <tr>\n",
       "      <th>3</th>\n",
       "      <td>Wii Sports Resort</td>\n",
       "      <td>Wii</td>\n",
       "      <td>2009.0</td>\n",
       "      <td>Sports</td>\n",
       "      <td>15.61</td>\n",
       "      <td>10.93</td>\n",
       "      <td>3.28</td>\n",
       "      <td>2.95</td>\n",
       "      <td>80.0</td>\n",
       "      <td>8</td>\n",
       "      <td>E</td>\n",
       "    </tr>\n",
       "    <tr>\n",
       "      <th>4</th>\n",
       "      <td>Pokemon Red/Pokemon Blue</td>\n",
       "      <td>GB</td>\n",
       "      <td>1996.0</td>\n",
       "      <td>Role-Playing</td>\n",
       "      <td>11.27</td>\n",
       "      <td>8.89</td>\n",
       "      <td>10.22</td>\n",
       "      <td>1.00</td>\n",
       "      <td>NaN</td>\n",
       "      <td>NaN</td>\n",
       "      <td>NaN</td>\n",
       "    </tr>\n",
       "  </tbody>\n",
       "</table>\n",
       "</div>"
      ],
      "text/plain": [
       "                       Name Platform  Year_of_Release         Genre  NA_sales  \\\n",
       "0                Wii Sports      Wii           2006.0        Sports     41.36   \n",
       "1         Super Mario Bros.      NES           1985.0      Platform     29.08   \n",
       "2            Mario Kart Wii      Wii           2008.0        Racing     15.68   \n",
       "3         Wii Sports Resort      Wii           2009.0        Sports     15.61   \n",
       "4  Pokemon Red/Pokemon Blue       GB           1996.0  Role-Playing     11.27   \n",
       "\n",
       "   EU_sales  JP_sales  Other_sales  Critic_Score User_Score Rating  \n",
       "0     28.96      3.77         8.45          76.0          8      E  \n",
       "1      3.58      6.81         0.77           NaN        NaN    NaN  \n",
       "2     12.76      3.79         3.29          82.0        8.3      E  \n",
       "3     10.93      3.28         2.95          80.0          8      E  \n",
       "4      8.89     10.22         1.00           NaN        NaN    NaN  "
      ]
     },
     "execution_count": 4,
     "metadata": {},
     "output_type": "execute_result"
    }
   ],
   "source": [
    "# Amostragem dos dados\n",
    "dados.head()"
   ]
  },
  {
   "cell_type": "code",
   "execution_count": 5,
   "metadata": {},
   "outputs": [
    {
     "data": {
      "text/plain": [
       "0"
      ]
     },
     "execution_count": 5,
     "metadata": {},
     "output_type": "execute_result"
    }
   ],
   "source": [
    "# Verificando se há dados duplicados\n",
    "dados.duplicated().sum()"
   ]
  },
  {
   "cell_type": "markdown",
   "metadata": {},
   "source": [
    "Não há dados duplicados."
   ]
  },
  {
   "cell_type": "code",
   "execution_count": 6,
   "metadata": {},
   "outputs": [
    {
     "data": {
      "text/html": [
       "<div>\n",
       "<style scoped>\n",
       "    .dataframe tbody tr th:only-of-type {\n",
       "        vertical-align: middle;\n",
       "    }\n",
       "\n",
       "    .dataframe tbody tr th {\n",
       "        vertical-align: top;\n",
       "    }\n",
       "\n",
       "    .dataframe thead th {\n",
       "        text-align: right;\n",
       "    }\n",
       "</style>\n",
       "<table border=\"1\" class=\"dataframe\">\n",
       "  <thead>\n",
       "    <tr style=\"text-align: right;\">\n",
       "      <th></th>\n",
       "      <th>Year_of_Release</th>\n",
       "      <th>NA_sales</th>\n",
       "      <th>EU_sales</th>\n",
       "      <th>JP_sales</th>\n",
       "      <th>Other_sales</th>\n",
       "      <th>Critic_Score</th>\n",
       "    </tr>\n",
       "  </thead>\n",
       "  <tbody>\n",
       "    <tr>\n",
       "      <th>count</th>\n",
       "      <td>16446.000000</td>\n",
       "      <td>16715.000000</td>\n",
       "      <td>16715.000000</td>\n",
       "      <td>16715.000000</td>\n",
       "      <td>16715.000000</td>\n",
       "      <td>8137.000000</td>\n",
       "    </tr>\n",
       "    <tr>\n",
       "      <th>mean</th>\n",
       "      <td>2006.484616</td>\n",
       "      <td>0.263377</td>\n",
       "      <td>0.145060</td>\n",
       "      <td>0.077617</td>\n",
       "      <td>0.047342</td>\n",
       "      <td>68.967679</td>\n",
       "    </tr>\n",
       "    <tr>\n",
       "      <th>std</th>\n",
       "      <td>5.877050</td>\n",
       "      <td>0.813604</td>\n",
       "      <td>0.503339</td>\n",
       "      <td>0.308853</td>\n",
       "      <td>0.186731</td>\n",
       "      <td>13.938165</td>\n",
       "    </tr>\n",
       "    <tr>\n",
       "      <th>min</th>\n",
       "      <td>1980.000000</td>\n",
       "      <td>0.000000</td>\n",
       "      <td>0.000000</td>\n",
       "      <td>0.000000</td>\n",
       "      <td>0.000000</td>\n",
       "      <td>13.000000</td>\n",
       "    </tr>\n",
       "    <tr>\n",
       "      <th>25%</th>\n",
       "      <td>2003.000000</td>\n",
       "      <td>0.000000</td>\n",
       "      <td>0.000000</td>\n",
       "      <td>0.000000</td>\n",
       "      <td>0.000000</td>\n",
       "      <td>60.000000</td>\n",
       "    </tr>\n",
       "    <tr>\n",
       "      <th>50%</th>\n",
       "      <td>2007.000000</td>\n",
       "      <td>0.080000</td>\n",
       "      <td>0.020000</td>\n",
       "      <td>0.000000</td>\n",
       "      <td>0.010000</td>\n",
       "      <td>71.000000</td>\n",
       "    </tr>\n",
       "    <tr>\n",
       "      <th>75%</th>\n",
       "      <td>2010.000000</td>\n",
       "      <td>0.240000</td>\n",
       "      <td>0.110000</td>\n",
       "      <td>0.040000</td>\n",
       "      <td>0.030000</td>\n",
       "      <td>79.000000</td>\n",
       "    </tr>\n",
       "    <tr>\n",
       "      <th>max</th>\n",
       "      <td>2016.000000</td>\n",
       "      <td>41.360000</td>\n",
       "      <td>28.960000</td>\n",
       "      <td>10.220000</td>\n",
       "      <td>10.570000</td>\n",
       "      <td>98.000000</td>\n",
       "    </tr>\n",
       "  </tbody>\n",
       "</table>\n",
       "</div>"
      ],
      "text/plain": [
       "       Year_of_Release      NA_sales      EU_sales      JP_sales  \\\n",
       "count     16446.000000  16715.000000  16715.000000  16715.000000   \n",
       "mean       2006.484616      0.263377      0.145060      0.077617   \n",
       "std           5.877050      0.813604      0.503339      0.308853   \n",
       "min        1980.000000      0.000000      0.000000      0.000000   \n",
       "25%        2003.000000      0.000000      0.000000      0.000000   \n",
       "50%        2007.000000      0.080000      0.020000      0.000000   \n",
       "75%        2010.000000      0.240000      0.110000      0.040000   \n",
       "max        2016.000000     41.360000     28.960000     10.220000   \n",
       "\n",
       "        Other_sales  Critic_Score  \n",
       "count  16715.000000   8137.000000  \n",
       "mean       0.047342     68.967679  \n",
       "std        0.186731     13.938165  \n",
       "min        0.000000     13.000000  \n",
       "25%        0.000000     60.000000  \n",
       "50%        0.010000     71.000000  \n",
       "75%        0.030000     79.000000  \n",
       "max       10.570000     98.000000  "
      ]
     },
     "execution_count": 6,
     "metadata": {},
     "output_type": "execute_result"
    }
   ],
   "source": [
    "dados.describe()"
   ]
  },
  {
   "cell_type": "markdown",
   "metadata": {},
   "source": [
    "## Preparar os dados"
   ]
  },
  {
   "cell_type": "markdown",
   "metadata": {},
   "source": [
    "### Substituir nome das colunas"
   ]
  },
  {
   "cell_type": "code",
   "execution_count": 7,
   "metadata": {},
   "outputs": [],
   "source": [
    "dados = dados.rename(columns={'Name': 'name',\n",
    "                            'Platform': 'platform',\n",
    "                            'Year_of_Release': 'year_of_release',\n",
    "                            'Genre': 'genre',\n",
    "                            'NA_sales': 'na_sales',\n",
    "                            'EU_sales': 'eu_sales',\n",
    "                            'JP_sales': 'jp_sales',\n",
    "                            'Other_sales': 'other_sales',\n",
    "                            'Critic_Score': 'critic_score',\n",
    "                            'User_Score': 'user_score', \n",
    "                            'Rating': 'rating'})"
   ]
  },
  {
   "cell_type": "code",
   "execution_count": 8,
   "metadata": {},
   "outputs": [
    {
     "data": {
      "text/plain": [
       "Index(['name', 'platform', 'year_of_release', 'genre', 'na_sales', 'eu_sales',\n",
       "       'jp_sales', 'other_sales', 'critic_score', 'user_score', 'rating'],\n",
       "      dtype='object')"
      ]
     },
     "execution_count": 8,
     "metadata": {},
     "output_type": "execute_result"
    }
   ],
   "source": [
    "#Conferindo se funcionou\n",
    "dados.columns"
   ]
  },
  {
   "cell_type": "markdown",
   "metadata": {},
   "source": [
    "Os nomes das colunas devem ser minúsculos."
   ]
  },
  {
   "cell_type": "markdown",
   "metadata": {},
   "source": [
    "### Corrigir tipo de dados"
   ]
  },
  {
   "cell_type": "markdown",
   "metadata": {},
   "source": [
    "A coluna 'user_score' é de pontuação (0 a 10), portanto deve ser do tipo float. "
   ]
  },
  {
   "cell_type": "code",
   "execution_count": 9,
   "metadata": {},
   "outputs": [
    {
     "data": {
      "text/plain": [
       "tbd    2424\n",
       "7.8     324\n",
       "8       290\n",
       "8.2     282\n",
       "8.3     254\n",
       "       ... \n",
       "2.3       2\n",
       "0.5       2\n",
       "0.6       2\n",
       "0         1\n",
       "9.7       1\n",
       "Name: user_score, Length: 96, dtype: int64"
      ]
     },
     "execution_count": 9,
     "metadata": {},
     "output_type": "execute_result"
    }
   ],
   "source": [
    "dados['user_score'].value_counts()"
   ]
  },
  {
   "cell_type": "markdown",
   "metadata": {},
   "source": [
    "A coluna possui 2424 valores 'tbd', mas essa coluna é de pontuação, deveriam ser apenas números, portanto ao transformar a coluna para o tipo float, colocarei o parâmetro errors='coerce', assim os valores que não são numéricos serão transformados em NaN, para tratá-los junto aos dados já ausentes."
   ]
  },
  {
   "cell_type": "code",
   "execution_count": 10,
   "metadata": {
    "scrolled": true
   },
   "outputs": [],
   "source": [
    "dados['user_score'] = pd.to_numeric(dados['user_score'], errors='coerce')"
   ]
  },
  {
   "cell_type": "code",
   "execution_count": 11,
   "metadata": {},
   "outputs": [
    {
     "data": {
      "text/plain": [
       "7.8    324\n",
       "8.0    290\n",
       "8.2    282\n",
       "8.3    254\n",
       "8.5    253\n",
       "      ... \n",
       "0.9      2\n",
       "1.9      2\n",
       "1.3      2\n",
       "9.7      1\n",
       "0.0      1\n",
       "Name: user_score, Length: 95, dtype: int64"
      ]
     },
     "execution_count": 11,
     "metadata": {},
     "output_type": "execute_result"
    }
   ],
   "source": [
    "dados['user_score'].value_counts()"
   ]
  },
  {
   "cell_type": "code",
   "execution_count": 12,
   "metadata": {},
   "outputs": [
    {
     "name": "stdout",
     "output_type": "stream",
     "text": [
      "<class 'pandas.core.frame.DataFrame'>\n",
      "RangeIndex: 16715 entries, 0 to 16714\n",
      "Data columns (total 11 columns):\n",
      " #   Column           Non-Null Count  Dtype  \n",
      "---  ------           --------------  -----  \n",
      " 0   name             16713 non-null  object \n",
      " 1   platform         16715 non-null  object \n",
      " 2   year_of_release  16446 non-null  float64\n",
      " 3   genre            16713 non-null  object \n",
      " 4   na_sales         16715 non-null  float64\n",
      " 5   eu_sales         16715 non-null  float64\n",
      " 6   jp_sales         16715 non-null  float64\n",
      " 7   other_sales      16715 non-null  float64\n",
      " 8   critic_score     8137 non-null   float64\n",
      " 9   user_score       7590 non-null   float64\n",
      " 10  rating           9949 non-null   object \n",
      "dtypes: float64(7), object(4)\n",
      "memory usage: 1.4+ MB\n"
     ]
    }
   ],
   "source": [
    "#Conferindo se deu certo\n",
    "dados.info()"
   ]
  },
  {
   "cell_type": "markdown",
   "metadata": {},
   "source": [
    "A coluna year_of_release deve ser do tipo int, pois indica os anos de lançamento. Porém só consigo mudar para o tipo inteiro quando não existir mais valores NaN na coluna, então terei que primeiro tratar os dados ausentes."
   ]
  },
  {
   "cell_type": "markdown",
   "metadata": {},
   "source": [
    "### Corrigir dados ausentes"
   ]
  },
  {
   "cell_type": "markdown",
   "metadata": {},
   "source": [
    "A coluna 'name' tem 2 valores ausentes, que vou substituir com 'unknown'."
   ]
  },
  {
   "cell_type": "code",
   "execution_count": 13,
   "metadata": {},
   "outputs": [],
   "source": [
    "dados['name'] = dados['name'].fillna('unknown')"
   ]
  },
  {
   "cell_type": "code",
   "execution_count": 14,
   "metadata": {},
   "outputs": [
    {
     "name": "stdout",
     "output_type": "stream",
     "text": [
      "<class 'pandas.core.frame.DataFrame'>\n",
      "RangeIndex: 16715 entries, 0 to 16714\n",
      "Data columns (total 11 columns):\n",
      " #   Column           Non-Null Count  Dtype  \n",
      "---  ------           --------------  -----  \n",
      " 0   name             16715 non-null  object \n",
      " 1   platform         16715 non-null  object \n",
      " 2   year_of_release  16446 non-null  float64\n",
      " 3   genre            16713 non-null  object \n",
      " 4   na_sales         16715 non-null  float64\n",
      " 5   eu_sales         16715 non-null  float64\n",
      " 6   jp_sales         16715 non-null  float64\n",
      " 7   other_sales      16715 non-null  float64\n",
      " 8   critic_score     8137 non-null   float64\n",
      " 9   user_score       7590 non-null   float64\n",
      " 10  rating           9949 non-null   object \n",
      "dtypes: float64(7), object(4)\n",
      "memory usage: 1.4+ MB\n"
     ]
    }
   ],
   "source": [
    "#Conferindo se deu certo\n",
    "dados.info()"
   ]
  },
  {
   "cell_type": "markdown",
   "metadata": {},
   "source": [
    "Os dados ausentes foram preenchidos."
   ]
  },
  {
   "cell_type": "markdown",
   "metadata": {},
   "source": [
    "A coluna 'year_of_release' tem 16446 valores preenchidos, os ausentes vou preencher com a mediana."
   ]
  },
  {
   "cell_type": "code",
   "execution_count": 16,
   "metadata": {},
   "outputs": [],
   "source": [
    "df_med_year = dados.groupby(['platform']).agg({'year_of_release': 'median'})\n",
    "dados['year_of_release'].fillna(dados.groupby(['platform'])['year_of_release'].transform('median'), inplace=True)"
   ]
  },
  {
   "cell_type": "code",
   "execution_count": 17,
   "metadata": {},
   "outputs": [
    {
     "name": "stdout",
     "output_type": "stream",
     "text": [
      "<class 'pandas.core.frame.DataFrame'>\n",
      "RangeIndex: 16715 entries, 0 to 16714\n",
      "Data columns (total 11 columns):\n",
      " #   Column           Non-Null Count  Dtype  \n",
      "---  ------           --------------  -----  \n",
      " 0   name             16715 non-null  object \n",
      " 1   platform         16715 non-null  object \n",
      " 2   year_of_release  16715 non-null  float64\n",
      " 3   genre            16713 non-null  object \n",
      " 4   na_sales         16715 non-null  float64\n",
      " 5   eu_sales         16715 non-null  float64\n",
      " 6   jp_sales         16715 non-null  float64\n",
      " 7   other_sales      16715 non-null  float64\n",
      " 8   critic_score     8137 non-null   float64\n",
      " 9   user_score       7590 non-null   float64\n",
      " 10  rating           9949 non-null   object \n",
      "dtypes: float64(7), object(4)\n",
      "memory usage: 1.4+ MB\n"
     ]
    }
   ],
   "source": [
    "#Conferindo se deu certo\n",
    "dados.info()"
   ]
  },
  {
   "cell_type": "markdown",
   "metadata": {},
   "source": [
    "Agora que a coluna não possui mais dados NaN, posso mudar o tipo dela para int."
   ]
  },
  {
   "cell_type": "code",
   "execution_count": 18,
   "metadata": {},
   "outputs": [],
   "source": [
    "dados['year_of_release'] = dados['year_of_release'].astype('int')"
   ]
  },
  {
   "cell_type": "code",
   "execution_count": 19,
   "metadata": {
    "scrolled": true
   },
   "outputs": [
    {
     "name": "stdout",
     "output_type": "stream",
     "text": [
      "<class 'pandas.core.frame.DataFrame'>\n",
      "RangeIndex: 16715 entries, 0 to 16714\n",
      "Data columns (total 11 columns):\n",
      " #   Column           Non-Null Count  Dtype  \n",
      "---  ------           --------------  -----  \n",
      " 0   name             16715 non-null  object \n",
      " 1   platform         16715 non-null  object \n",
      " 2   year_of_release  16715 non-null  int64  \n",
      " 3   genre            16713 non-null  object \n",
      " 4   na_sales         16715 non-null  float64\n",
      " 5   eu_sales         16715 non-null  float64\n",
      " 6   jp_sales         16715 non-null  float64\n",
      " 7   other_sales      16715 non-null  float64\n",
      " 8   critic_score     8137 non-null   float64\n",
      " 9   user_score       7590 non-null   float64\n",
      " 10  rating           9949 non-null   object \n",
      "dtypes: float64(6), int64(1), object(4)\n",
      "memory usage: 1.4+ MB\n"
     ]
    }
   ],
   "source": [
    "#Conferindo se deu certo\n",
    "dados.info()"
   ]
  },
  {
   "cell_type": "markdown",
   "metadata": {},
   "source": [
    "A coluna 'critic_score' também possui muitos valores ausentes.Vou preenchê-los com a mediana."
   ]
  },
  {
   "cell_type": "code",
   "execution_count": 20,
   "metadata": {},
   "outputs": [],
   "source": [
    "mediana_critic = dados['critic_score'].median()"
   ]
  },
  {
   "cell_type": "code",
   "execution_count": 21,
   "metadata": {},
   "outputs": [],
   "source": [
    "dados['critic_score'] = dados['critic_score'].fillna(mediana_critic)"
   ]
  },
  {
   "cell_type": "code",
   "execution_count": 22,
   "metadata": {
    "scrolled": true
   },
   "outputs": [
    {
     "name": "stdout",
     "output_type": "stream",
     "text": [
      "<class 'pandas.core.frame.DataFrame'>\n",
      "RangeIndex: 16715 entries, 0 to 16714\n",
      "Data columns (total 11 columns):\n",
      " #   Column           Non-Null Count  Dtype  \n",
      "---  ------           --------------  -----  \n",
      " 0   name             16715 non-null  object \n",
      " 1   platform         16715 non-null  object \n",
      " 2   year_of_release  16715 non-null  int64  \n",
      " 3   genre            16713 non-null  object \n",
      " 4   na_sales         16715 non-null  float64\n",
      " 5   eu_sales         16715 non-null  float64\n",
      " 6   jp_sales         16715 non-null  float64\n",
      " 7   other_sales      16715 non-null  float64\n",
      " 8   critic_score     16715 non-null  float64\n",
      " 9   user_score       7590 non-null   float64\n",
      " 10  rating           9949 non-null   object \n",
      "dtypes: float64(6), int64(1), object(4)\n",
      "memory usage: 1.4+ MB\n"
     ]
    }
   ],
   "source": [
    "#Conferindo se deu certo\n",
    "dados.info()"
   ]
  },
  {
   "cell_type": "markdown",
   "metadata": {},
   "source": [
    "A coluna 'genre' também possui 2 valores ausentes. Vou substituir com a moda."
   ]
  },
  {
   "cell_type": "code",
   "execution_count": 23,
   "metadata": {},
   "outputs": [
    {
     "name": "stdout",
     "output_type": "stream",
     "text": [
      "0    Action\n",
      "dtype: object\n"
     ]
    }
   ],
   "source": [
    "mode_genre = dados['genre'].mode()\n",
    "print(mode_genre)"
   ]
  },
  {
   "cell_type": "code",
   "execution_count": 24,
   "metadata": {},
   "outputs": [],
   "source": [
    "dados['genre'] = dados['genre'].fillna('Action')"
   ]
  },
  {
   "cell_type": "code",
   "execution_count": 25,
   "metadata": {},
   "outputs": [
    {
     "name": "stdout",
     "output_type": "stream",
     "text": [
      "<class 'pandas.core.frame.DataFrame'>\n",
      "RangeIndex: 16715 entries, 0 to 16714\n",
      "Data columns (total 11 columns):\n",
      " #   Column           Non-Null Count  Dtype  \n",
      "---  ------           --------------  -----  \n",
      " 0   name             16715 non-null  object \n",
      " 1   platform         16715 non-null  object \n",
      " 2   year_of_release  16715 non-null  int64  \n",
      " 3   genre            16715 non-null  object \n",
      " 4   na_sales         16715 non-null  float64\n",
      " 5   eu_sales         16715 non-null  float64\n",
      " 6   jp_sales         16715 non-null  float64\n",
      " 7   other_sales      16715 non-null  float64\n",
      " 8   critic_score     16715 non-null  float64\n",
      " 9   user_score       7590 non-null   float64\n",
      " 10  rating           9949 non-null   object \n",
      "dtypes: float64(6), int64(1), object(4)\n",
      "memory usage: 1.4+ MB\n"
     ]
    }
   ],
   "source": [
    "#Conferindo se deu certo\n",
    "dados.info()"
   ]
  },
  {
   "cell_type": "markdown",
   "metadata": {},
   "source": [
    "A coluna 'user_score' também possui muitos valores ausentes.Também vou preenchê-los com a mediana."
   ]
  },
  {
   "cell_type": "code",
   "execution_count": 27,
   "metadata": {},
   "outputs": [],
   "source": [
    "df_med = dados.groupby(['genre']).agg({'user_score': 'median'})\n",
    "dados['user_score'].fillna(dados.groupby(['genre'])['user_score'].transform('median'), inplace=True)"
   ]
  },
  {
   "cell_type": "code",
   "execution_count": 28,
   "metadata": {},
   "outputs": [
    {
     "name": "stdout",
     "output_type": "stream",
     "text": [
      "<class 'pandas.core.frame.DataFrame'>\n",
      "RangeIndex: 16715 entries, 0 to 16714\n",
      "Data columns (total 11 columns):\n",
      " #   Column           Non-Null Count  Dtype  \n",
      "---  ------           --------------  -----  \n",
      " 0   name             16715 non-null  object \n",
      " 1   platform         16715 non-null  object \n",
      " 2   year_of_release  16715 non-null  int64  \n",
      " 3   genre            16715 non-null  object \n",
      " 4   na_sales         16715 non-null  float64\n",
      " 5   eu_sales         16715 non-null  float64\n",
      " 6   jp_sales         16715 non-null  float64\n",
      " 7   other_sales      16715 non-null  float64\n",
      " 8   critic_score     16715 non-null  float64\n",
      " 9   user_score       16715 non-null  float64\n",
      " 10  rating           9949 non-null   object \n",
      "dtypes: float64(6), int64(1), object(4)\n",
      "memory usage: 1.4+ MB\n"
     ]
    }
   ],
   "source": [
    "#Conferindo se deu certo\n",
    "dados.info()"
   ]
  },
  {
   "cell_type": "markdown",
   "metadata": {},
   "source": [
    "A coluna 'rating' também possui muitos valores ausentes. Vou preenchê-los com a moda."
   ]
  },
  {
   "cell_type": "code",
   "execution_count": 29,
   "metadata": {},
   "outputs": [
    {
     "name": "stdout",
     "output_type": "stream",
     "text": [
      "0    E\n",
      "dtype: object\n"
     ]
    }
   ],
   "source": [
    "mode_rating = dados['rating'].mode()\n",
    "print(mode_rating)"
   ]
  },
  {
   "cell_type": "code",
   "execution_count": 30,
   "metadata": {},
   "outputs": [],
   "source": [
    "dados['rating'] = dados['rating'].fillna('E')"
   ]
  },
  {
   "cell_type": "code",
   "execution_count": 31,
   "metadata": {},
   "outputs": [
    {
     "name": "stdout",
     "output_type": "stream",
     "text": [
      "<class 'pandas.core.frame.DataFrame'>\n",
      "RangeIndex: 16715 entries, 0 to 16714\n",
      "Data columns (total 11 columns):\n",
      " #   Column           Non-Null Count  Dtype  \n",
      "---  ------           --------------  -----  \n",
      " 0   name             16715 non-null  object \n",
      " 1   platform         16715 non-null  object \n",
      " 2   year_of_release  16715 non-null  int64  \n",
      " 3   genre            16715 non-null  object \n",
      " 4   na_sales         16715 non-null  float64\n",
      " 5   eu_sales         16715 non-null  float64\n",
      " 6   jp_sales         16715 non-null  float64\n",
      " 7   other_sales      16715 non-null  float64\n",
      " 8   critic_score     16715 non-null  float64\n",
      " 9   user_score       16715 non-null  float64\n",
      " 10  rating           16715 non-null  object \n",
      "dtypes: float64(6), int64(1), object(4)\n",
      "memory usage: 1.4+ MB\n"
     ]
    }
   ],
   "source": [
    "#Conferindo se deu certo\n",
    "dados.info()"
   ]
  },
  {
   "cell_type": "markdown",
   "metadata": {},
   "source": [
    "Agora não há mais valores ausentes no dataframe e os tipos estão certos."
   ]
  },
  {
   "cell_type": "markdown",
   "metadata": {},
   "source": [
    "## Enriquecer dados"
   ]
  },
  {
   "cell_type": "markdown",
   "metadata": {},
   "source": [
    "Irei calcular o total de vendas (a soma das vendas em todas as regiões) para cada jogo. "
   ]
  },
  {
   "cell_type": "code",
   "execution_count": 28,
   "metadata": {},
   "outputs": [],
   "source": [
    "def total(row):\n",
    "    na = row['na_sales']\n",
    "    eu = row['eu_sales']\n",
    "    jp = row['jp_sales']\n",
    "    other = row['other_sales']\n",
    "    \n",
    "    total = na + eu + jp + other\n",
    "    return total\n",
    "\n",
    "dados['total_sales'] = dados.apply(total, axis=1)"
   ]
  },
  {
   "cell_type": "code",
   "execution_count": 29,
   "metadata": {},
   "outputs": [
    {
     "data": {
      "text/html": [
       "<div>\n",
       "<style scoped>\n",
       "    .dataframe tbody tr th:only-of-type {\n",
       "        vertical-align: middle;\n",
       "    }\n",
       "\n",
       "    .dataframe tbody tr th {\n",
       "        vertical-align: top;\n",
       "    }\n",
       "\n",
       "    .dataframe thead th {\n",
       "        text-align: right;\n",
       "    }\n",
       "</style>\n",
       "<table border=\"1\" class=\"dataframe\">\n",
       "  <thead>\n",
       "    <tr style=\"text-align: right;\">\n",
       "      <th></th>\n",
       "      <th>name</th>\n",
       "      <th>platform</th>\n",
       "      <th>year_of_release</th>\n",
       "      <th>genre</th>\n",
       "      <th>na_sales</th>\n",
       "      <th>eu_sales</th>\n",
       "      <th>jp_sales</th>\n",
       "      <th>other_sales</th>\n",
       "      <th>critic_score</th>\n",
       "      <th>user_score</th>\n",
       "      <th>rating</th>\n",
       "      <th>total_sales</th>\n",
       "    </tr>\n",
       "  </thead>\n",
       "  <tbody>\n",
       "    <tr>\n",
       "      <th>0</th>\n",
       "      <td>Wii Sports</td>\n",
       "      <td>Wii</td>\n",
       "      <td>2006</td>\n",
       "      <td>Sports</td>\n",
       "      <td>41.36</td>\n",
       "      <td>28.96</td>\n",
       "      <td>3.77</td>\n",
       "      <td>8.45</td>\n",
       "      <td>76.0</td>\n",
       "      <td>8.0</td>\n",
       "      <td>E</td>\n",
       "      <td>82.54</td>\n",
       "    </tr>\n",
       "    <tr>\n",
       "      <th>1</th>\n",
       "      <td>Super Mario Bros.</td>\n",
       "      <td>NES</td>\n",
       "      <td>1985</td>\n",
       "      <td>Platform</td>\n",
       "      <td>29.08</td>\n",
       "      <td>3.58</td>\n",
       "      <td>6.81</td>\n",
       "      <td>0.77</td>\n",
       "      <td>71.0</td>\n",
       "      <td>7.5</td>\n",
       "      <td>E</td>\n",
       "      <td>40.24</td>\n",
       "    </tr>\n",
       "    <tr>\n",
       "      <th>2</th>\n",
       "      <td>Mario Kart Wii</td>\n",
       "      <td>Wii</td>\n",
       "      <td>2008</td>\n",
       "      <td>Racing</td>\n",
       "      <td>15.68</td>\n",
       "      <td>12.76</td>\n",
       "      <td>3.79</td>\n",
       "      <td>3.29</td>\n",
       "      <td>82.0</td>\n",
       "      <td>8.3</td>\n",
       "      <td>E</td>\n",
       "      <td>35.52</td>\n",
       "    </tr>\n",
       "    <tr>\n",
       "      <th>3</th>\n",
       "      <td>Wii Sports Resort</td>\n",
       "      <td>Wii</td>\n",
       "      <td>2009</td>\n",
       "      <td>Sports</td>\n",
       "      <td>15.61</td>\n",
       "      <td>10.93</td>\n",
       "      <td>3.28</td>\n",
       "      <td>2.95</td>\n",
       "      <td>80.0</td>\n",
       "      <td>8.0</td>\n",
       "      <td>E</td>\n",
       "      <td>32.77</td>\n",
       "    </tr>\n",
       "    <tr>\n",
       "      <th>4</th>\n",
       "      <td>Pokemon Red/Pokemon Blue</td>\n",
       "      <td>GB</td>\n",
       "      <td>1996</td>\n",
       "      <td>Role-Playing</td>\n",
       "      <td>11.27</td>\n",
       "      <td>8.89</td>\n",
       "      <td>10.22</td>\n",
       "      <td>1.00</td>\n",
       "      <td>71.0</td>\n",
       "      <td>7.5</td>\n",
       "      <td>E</td>\n",
       "      <td>31.38</td>\n",
       "    </tr>\n",
       "  </tbody>\n",
       "</table>\n",
       "</div>"
      ],
      "text/plain": [
       "                       name platform  year_of_release         genre  na_sales  \\\n",
       "0                Wii Sports      Wii             2006        Sports     41.36   \n",
       "1         Super Mario Bros.      NES             1985      Platform     29.08   \n",
       "2            Mario Kart Wii      Wii             2008        Racing     15.68   \n",
       "3         Wii Sports Resort      Wii             2009        Sports     15.61   \n",
       "4  Pokemon Red/Pokemon Blue       GB             1996  Role-Playing     11.27   \n",
       "\n",
       "   eu_sales  jp_sales  other_sales  critic_score  user_score rating  \\\n",
       "0     28.96      3.77         8.45          76.0         8.0      E   \n",
       "1      3.58      6.81         0.77          71.0         7.5      E   \n",
       "2     12.76      3.79         3.29          82.0         8.3      E   \n",
       "3     10.93      3.28         2.95          80.0         8.0      E   \n",
       "4      8.89     10.22         1.00          71.0         7.5      E   \n",
       "\n",
       "   total_sales  \n",
       "0        82.54  \n",
       "1        40.24  \n",
       "2        35.52  \n",
       "3        32.77  \n",
       "4        31.38  "
      ]
     },
     "execution_count": 29,
     "metadata": {},
     "output_type": "execute_result"
    }
   ],
   "source": [
    "dados.head()"
   ]
  },
  {
   "cell_type": "markdown",
   "metadata": {},
   "source": [
    "## Análise dos dados"
   ]
  },
  {
   "cell_type": "code",
   "execution_count": 30,
   "metadata": {},
   "outputs": [
    {
     "data": {
      "text/plain": [
       "year_of_release\n",
       "1980       9\n",
       "1981      46\n",
       "1982      36\n",
       "1983      17\n",
       "1984      14\n",
       "1985      14\n",
       "1986      21\n",
       "1987      16\n",
       "1988      15\n",
       "1989      17\n",
       "1990      16\n",
       "1991      41\n",
       "1992      43\n",
       "1993      62\n",
       "1994     121\n",
       "1995     219\n",
       "1996     263\n",
       "1997     289\n",
       "1998     379\n",
       "1999     338\n",
       "2000     350\n",
       "2001     482\n",
       "2002     829\n",
       "2003     775\n",
       "2004     762\n",
       "2005     939\n",
       "2006    1006\n",
       "2007    1466\n",
       "2008    1427\n",
       "2009    1426\n",
       "2010    1255\n",
       "2011    1136\n",
       "2012     653\n",
       "2013     544\n",
       "2014     581\n",
       "2015     606\n",
       "2016     502\n",
       "Name: name, dtype: int64"
      ]
     },
     "execution_count": 30,
     "metadata": {},
     "output_type": "execute_result"
    }
   ],
   "source": [
    "#Quantos jogos foram lançados em anos diferentes \n",
    "dados.groupby('year_of_release')['name'].count()"
   ]
  },
  {
   "cell_type": "markdown",
   "metadata": {},
   "source": [
    "Entre 2002 e 2011 foi o período que mais lançaram jogos. A partir de 1994, o número de lançamentos teve um aumento significativo a cada ano."
   ]
  },
  {
   "cell_type": "markdown",
   "metadata": {},
   "source": [
    "Vamos ver como as vendas variam de plataforma para plataforma."
   ]
  },
  {
   "cell_type": "code",
   "execution_count": 31,
   "metadata": {
    "scrolled": false
   },
   "outputs": [
    {
     "data": {
      "text/plain": [
       "platform\n",
       "PS2     1255.77\n",
       "X360     971.42\n",
       "PS3      939.65\n",
       "Wii      907.51\n",
       "DS       806.12\n",
       "PS       730.86\n",
       "GBA      317.85\n",
       "PS4      314.14\n",
       "PSP      294.05\n",
       "PC       259.52\n",
       "3DS      259.00\n",
       "XB       257.74\n",
       "GB       255.46\n",
       "NES      251.05\n",
       "N64      218.68\n",
       "SNES     200.04\n",
       "GC       198.93\n",
       "XOne     159.32\n",
       "2600      96.98\n",
       "WiiU      82.19\n",
       "PSV       54.07\n",
       "SAT       33.59\n",
       "GEN       30.77\n",
       "DC        15.95\n",
       "SCD        1.86\n",
       "NG         1.44\n",
       "WS         1.42\n",
       "TG16       0.16\n",
       "3DO        0.10\n",
       "GG         0.04\n",
       "PCFX       0.03\n",
       "Name: total_sales, dtype: float64"
      ]
     },
     "execution_count": 31,
     "metadata": {},
     "output_type": "execute_result"
    }
   ],
   "source": [
    "# Variação das vendas de plataforma para plataforma\n",
    "dados.groupby('platform')['total_sales'].sum().sort_values(ascending=False)"
   ]
  },
  {
   "cell_type": "markdown",
   "metadata": {},
   "source": [
    "As plataformas com as maiores vendas totais são: PS2, X360, PS3, Wii, DS e PS."
   ]
  },
  {
   "cell_type": "markdown",
   "metadata": {},
   "source": [
    "Vou construir uma distribuição com base em dados para cada ano dessas plataformas com maiores vendas totais."
   ]
  },
  {
   "cell_type": "code",
   "execution_count": 32,
   "metadata": {},
   "outputs": [],
   "source": [
    "maiores_vendas = dados.query('platform in (\"PS2\", \"X360\", \"PS3\", \"Wii\", \"DS\", \"PS\")')"
   ]
  },
  {
   "cell_type": "code",
   "execution_count": 33,
   "metadata": {},
   "outputs": [
    {
     "data": {
      "text/plain": [
       "<seaborn.axisgrid.FacetGrid at 0x7fbb5d5d13d0>"
      ]
     },
     "execution_count": 33,
     "metadata": {},
     "output_type": "execute_result"
    },
    {
     "data": {
      "image/png": "[encoded data removed]",
      "text/plain": [
       "<Figure size 6973.75x576 with 1 Axes>"
      ]
     },
     "metadata": {
      "needs_background": "light"
     },
     "output_type": "display_data"
    }
   ],
   "source": [
    "df_vendas = maiores_vendas.pivot_table(index=['year_of_release', 'platform'], values='total_sales', aggfunc='sum')\n",
    "df_expl = df_vendas['total_sales'].reset_index()\n",
    "sns.catplot(x='year_of_release', y='total_sales', hue='platform', data=df_expl, kind='bar', height = 8, aspect = 12)"
   ]
  },
  {
   "cell_type": "markdown",
   "metadata": {},
   "source": [
    "Laranja: PS;\n",
    "Azul: DS;\n",
    "Verde: PS2;\n",
    "Vermelho: X360;\n",
    "Roxo: PS3;\n",
    "Marrom: Wii\n",
    "\n",
    "- O PS surge em 1994 e cresce sua popularidade até 1998, a partir desse ano,  sua popularidade diminuiu e desapareceu em 2004.\n",
    "- De 2001 até 2005, a plataforma mais popular era o PS2. A partir de 2006 foi diminuindo sua popularidade e deixa de aparecer em 2011.\n",
    "- O DS surge em 2004 e cresce sua popularidade até 2007, a partir desse ano vai perdendo a popularidade até deixar de aparecer em 2013.\n",
    "\n",
    "Esses 3 foram os primeiros a surgir, e o tempo que levam para desaparecerem varia, sendo o PS2 o que mais demorou para desaparecer, 11 anos. O PS e o DS demoraram 9 anos. Essas plataformas costumavam ser populares, mas agora não têm vendas.\n",
    "\n",
    "- O X360 surge em 2005 e sua popularidade cresce até 2010, a partir desse ano vai perdendo a popularidade, mas se mantém até esse ano (2016).\n",
    "- O PS3 surge em 2006 e sua popularidade cresce até 2011, a partir desse ano vai perdendo a popularidade, mas se mantém até esse ano (2016).\n",
    "- O Wii surge já com a maior popularidade em 2006 e sua popularidade cresce até 2009, a partir desse ano vai perdendo a popularidade, mas se mantém até esse ano (2016).\n",
    "\n",
    "Analisando de 2000 a 2016 (período que apareceram mais de 1 plataforma com maiores vendas), levou de 3 a 5 anos para as novas plataformas aparecerem (X360, PS3 e Wii), desde o desaparecimento da primeira plataforma com mais vendas que surgiu (PS)."
   ]
  },
  {
   "cell_type": "markdown",
   "metadata": {},
   "source": [
    "Vou analisar do período de 2000 a 2016, que foi o período que apareceram as plataformas com maiores vendas totais."
   ]
  },
  {
   "cell_type": "code",
   "execution_count": 34,
   "metadata": {},
   "outputs": [],
   "source": [
    "dados_16anos = dados.query('year_of_release in (2000, 2001, 2002, 2003, 2004, 2005, 2006, 2007, 2008, 2009, 2010, 2011, 2012, 2013, 2014, 2015, 2016)')"
   ]
  },
  {
   "cell_type": "markdown",
   "metadata": {},
   "source": [
    "Quais plataformas estão liderando em vendas?"
   ]
  },
  {
   "cell_type": "code",
   "execution_count": 35,
   "metadata": {},
   "outputs": [
    {
     "data": {
      "text/plain": [
       "platform\n",
       "PS4     69.25\n",
       "XOne    26.15\n",
       "3DS     15.14\n",
       "PC       5.25\n",
       "WiiU     4.60\n",
       "PSV      4.25\n",
       "PS3      3.60\n",
       "X360     1.52\n",
       "Wii      0.18\n",
       "Name: total_sales, dtype: float64"
      ]
     },
     "execution_count": 35,
     "metadata": {},
     "output_type": "execute_result"
    }
   ],
   "source": [
    "lider_2016 = dados.query('year_of_release == 2016')\n",
    "lider_2016.groupby('platform')['total_sales'].sum().sort_values(ascending=False)"
   ]
  },
  {
   "cell_type": "markdown",
   "metadata": {},
   "source": [
    "A plataforma que está liderando em vendas (2016) é a PS4, seguida da XOne e 3DS."
   ]
  },
  {
   "cell_type": "markdown",
   "metadata": {},
   "source": [
    "Quais plataformas estão crescendo ou diminuindo? (Vou analisar últimos 5 anos)"
   ]
  },
  {
   "cell_type": "code",
   "execution_count": 36,
   "metadata": {},
   "outputs": [
    {
     "data": {
      "text/plain": [
       "<seaborn.axisgrid.FacetGrid at 0x7fbb5d26d580>"
      ]
     },
     "execution_count": 36,
     "metadata": {},
     "output_type": "execute_result"
    },
    {
     "data": {
      "image/png": "[encoded data removed]",
      "text/plain": [
       "<Figure size 6974.5x576 with 1 Axes>"
      ]
     },
     "metadata": {
      "needs_background": "light"
     },
     "output_type": "display_data"
    }
   ],
   "source": [
    "lider_5anos = dados.query('year_of_release in (2011, 2012, 2013, 2014, 2015, 2016)')\n",
    "df_lider = lider_5anos.pivot_table(index=['year_of_release', 'platform'], values='total_sales', aggfunc='sum')\n",
    "df_expl2 = df_lider['total_sales'].reset_index()\n",
    "sns.catplot(x='year_of_release', y='total_sales', hue='platform', data=df_expl2, kind='bar', height = 8, aspect = 12)"
   ]
  },
  {
   "cell_type": "markdown",
   "metadata": {},
   "source": [
    "Nos últimos 5 anos:\n",
    "- 3DS só diminuiu, mas não desapareceu;\n",
    "- DS se manteve até 2013 e desapareceu;\n",
    "- PC só diminuiu, mas não desapareceu; \n",
    "- PS2 como vimos no gráfico anterior, desapareceu em 2012;\n",
    "- PS3 só diminuiu, mas não desapareceu;\n",
    "- PSP se manteve até 2014 e desapareceu; \n",
    "- PSV se manteve constante nesses anos\n",
    "- Wii só diminuiu, mas não desapareceu totalmente;\n",
    "- X360 só diminuiu, mas não desapareceu;\n",
    "- WiiU surgiu em 2012, se manteve constante até 2015 e em 2016 diminuiu;\n",
    "- PS4 surgiu em 2013, aumentou até 2015 e em 2016 diminuiu, mas é o líder em vendas;\n",
    "- XOne surgiu em 2013, aumentou até 2015 e em 2016 diminuiu.\n",
    "\n",
    "Nenhuma plataforma do ano anterior para esse (2016) está crescendo.\n",
    "O restante das plataformas que não apareceram, significa que desapareceram antes de 2011."
   ]
  },
  {
   "cell_type": "markdown",
   "metadata": {},
   "source": [
    "Vamos ver as vendas globais de todos os jogos, divididos por plataforma"
   ]
  },
  {
   "cell_type": "code",
   "execution_count": 37,
   "metadata": {},
   "outputs": [],
   "source": [
    "df_jogos = dados_16anos.pivot_table(index=['platform', 'name'], values='total_sales', aggfunc='sum' )"
   ]
  },
  {
   "cell_type": "code",
   "execution_count": 38,
   "metadata": {
    "scrolled": true
   },
   "outputs": [
    {
     "data": {
      "text/plain": [
       "<AxesSubplot:>"
      ]
     },
     "execution_count": 38,
     "metadata": {},
     "output_type": "execute_result"
    },
    {
     "data": {
      "image/png": "[encoded data removed]",
      "text/plain": [
       "<Figure size 432x288 with 1 Axes>"
      ]
     },
     "metadata": {
      "needs_background": "light"
     },
     "output_type": "display_data"
    }
   ],
   "source": [
    "df_jogos.boxplot()"
   ]
  },
  {
   "cell_type": "code",
   "execution_count": 39,
   "metadata": {
    "scrolled": true
   },
   "outputs": [
    {
     "data": {
      "text/html": [
       "<div>\n",
       "<style scoped>\n",
       "    .dataframe tbody tr th:only-of-type {\n",
       "        vertical-align: middle;\n",
       "    }\n",
       "\n",
       "    .dataframe tbody tr th {\n",
       "        vertical-align: top;\n",
       "    }\n",
       "\n",
       "    .dataframe thead th {\n",
       "        text-align: right;\n",
       "    }\n",
       "</style>\n",
       "<table border=\"1\" class=\"dataframe\">\n",
       "  <thead>\n",
       "    <tr style=\"text-align: right;\">\n",
       "      <th></th>\n",
       "      <th></th>\n",
       "      <th>total_sales</th>\n",
       "    </tr>\n",
       "    <tr>\n",
       "      <th>platform</th>\n",
       "      <th>name</th>\n",
       "      <th></th>\n",
       "    </tr>\n",
       "  </thead>\n",
       "  <tbody>\n",
       "    <tr>\n",
       "      <th>Wii</th>\n",
       "      <th>Wii Sports</th>\n",
       "      <td>82.54</td>\n",
       "    </tr>\n",
       "  </tbody>\n",
       "</table>\n",
       "</div>"
      ],
      "text/plain": [
       "                     total_sales\n",
       "platform name                   \n",
       "Wii      Wii Sports        82.54"
      ]
     },
     "execution_count": 39,
     "metadata": {},
     "output_type": "execute_result"
    }
   ],
   "source": [
    "df_jogos.query('total_sales > 80')"
   ]
  },
  {
   "cell_type": "markdown",
   "metadata": {},
   "source": [
    "Podemos ver que existem valores atípicos. Há uma diferença significativa em um jogo, que está acima de $80, o jogo 'Wii Sports'; o restante estão todos na faixa de 0 a 38. Apenas esse jogo possui venda total maior que o dobro dos outros, o que pode significar que ele vendeu muito mais que os outros, ou então é bem mais caro."
   ]
  },
  {
   "cell_type": "markdown",
   "metadata": {},
   "source": [
    "Vamos ver como as avaliações de usuários e profissionais afetam as vendas de uma plataforma popular (PS4 - líder em vendas esse ano, 2016)"
   ]
  },
  {
   "cell_type": "code",
   "execution_count": 40,
   "metadata": {},
   "outputs": [],
   "source": [
    "df_ps4 = dados.query('platform == \"PS4\"')"
   ]
  },
  {
   "cell_type": "code",
   "execution_count": 41,
   "metadata": {},
   "outputs": [
    {
     "name": "stdout",
     "output_type": "stream",
     "text": [
      "                         total_sales\n",
      "critic_score user_score             \n",
      "71.0         7.5               69.00\n",
      "97.0         8.3               12.62\n",
      "82.0         4.3                8.58\n",
      "83.0         5.7                7.66\n",
      "85.0         5.0                7.60\n",
      "...                              ...\n",
      "49.0         6.0                0.01\n",
      "70.0         6.8                0.01\n",
      "66.0         6.2                0.01\n",
      "51.0         5.5                0.01\n",
      "42.0         2.3                0.01\n",
      "\n",
      "[235 rows x 1 columns]\n"
     ]
    }
   ],
   "source": [
    "ps4 = df_ps4.pivot_table(index=['critic_score', 'user_score'], values='total_sales', aggfunc='sum').sort_values(by='total_sales', ascending=False)\n",
    "print(ps4)"
   ]
  },
  {
   "cell_type": "markdown",
   "metadata": {},
   "source": [
    "Vemos que as maiores vendas provém de pontuações maiores de profissionais, sendo 71 a pontuação com maior venda; as próximas maiores vendas tem pontuação profissional maior que 80. No que diz respeito à pontuação dos usuários, não vemos tanta relação com as vendas."
   ]
  },
  {
   "cell_type": "code",
   "execution_count": 42,
   "metadata": {
    "scrolled": true
   },
   "outputs": [
    {
     "data": {
      "text/plain": [
       "0.3387064530024634"
      ]
     },
     "execution_count": 42,
     "metadata": {},
     "output_type": "execute_result"
    }
   ],
   "source": [
    "df_ps4['critic_score'].corr(df_ps4['total_sales'])"
   ]
  },
  {
   "cell_type": "code",
   "execution_count": 43,
   "metadata": {},
   "outputs": [
    {
     "data": {
      "text/plain": [
       "-0.06275557891282788"
      ]
     },
     "execution_count": 43,
     "metadata": {},
     "output_type": "execute_result"
    }
   ],
   "source": [
    "df_ps4['user_score'].corr(df_ps4['total_sales'])"
   ]
  },
  {
   "cell_type": "markdown",
   "metadata": {},
   "source": [
    "Vemos que a pontuação profissional tem 33% de correlação com as vendas, enquanto a pontuação dos usuários tem correlação negativa de -6, ou seja, confirma o que foi analisado anteriormente."
   ]
  },
  {
   "cell_type": "markdown",
   "metadata": {},
   "source": [
    "Quais gêneros mais lucrativos?"
   ]
  },
  {
   "cell_type": "code",
   "execution_count": 44,
   "metadata": {
    "scrolled": true
   },
   "outputs": [
    {
     "data": {
      "text/plain": [
       "genre\n",
       "Action          1744.17\n",
       "Sports          1331.27\n",
       "Shooter         1052.45\n",
       "Role-Playing     934.56\n",
       "Platform         827.77\n",
       "Misc             802.51\n",
       "Racing           728.67\n",
       "Fighting         447.53\n",
       "Simulation       389.97\n",
       "Puzzle           242.57\n",
       "Adventure        237.59\n",
       "Strategy         174.23\n",
       "Name: total_sales, dtype: float64"
      ]
     },
     "execution_count": 44,
     "metadata": {},
     "output_type": "execute_result"
    }
   ],
   "source": [
    "dados.groupby('genre')['total_sales'].sum().sort_values(ascending=False)"
   ]
  },
  {
   "cell_type": "markdown",
   "metadata": {},
   "source": [
    "Os 3 gêneros mais lucrativos são: Action, Sports e Shooter"
   ]
  },
  {
   "cell_type": "markdown",
   "metadata": {},
   "source": [
    "## Perfis para cada região"
   ]
  },
  {
   "cell_type": "code",
   "execution_count": 45,
   "metadata": {},
   "outputs": [
    {
     "data": {
      "text/plain": [
       "4402.35"
      ]
     },
     "execution_count": 45,
     "metadata": {},
     "output_type": "execute_result"
    }
   ],
   "source": [
    "dados['na_sales'].sum()"
   ]
  },
  {
   "cell_type": "code",
   "execution_count": 46,
   "metadata": {},
   "outputs": [
    {
     "data": {
      "text/plain": [
       "2424.67"
      ]
     },
     "execution_count": 46,
     "metadata": {},
     "output_type": "execute_result"
    }
   ],
   "source": [
    "dados['eu_sales'].sum()"
   ]
  },
  {
   "cell_type": "code",
   "execution_count": 47,
   "metadata": {},
   "outputs": [
    {
     "data": {
      "text/plain": [
       "1297.37"
      ]
     },
     "execution_count": 47,
     "metadata": {},
     "output_type": "execute_result"
    }
   ],
   "source": [
    "dados['jp_sales'].sum()"
   ]
  },
  {
   "cell_type": "markdown",
   "metadata": {},
   "source": [
    "As vendas norte americanas são as maiores, seguidas das europeias e japonesas, nessa ordem, sendo uma quase o dobro da anterior."
   ]
  },
  {
   "cell_type": "markdown",
   "metadata": {},
   "source": [
    "Vamos ver as cinco plataformas principais por região."
   ]
  },
  {
   "cell_type": "code",
   "execution_count": 48,
   "metadata": {},
   "outputs": [
    {
     "data": {
      "text/plain": [
       "platform\n",
       "X360    602.47\n",
       "PS2     583.84\n",
       "Wii     496.90\n",
       "PS3     393.49\n",
       "DS      382.40\n",
       "PS      336.52\n",
       "GBA     187.54\n",
       "XB      186.69\n",
       "N64     139.02\n",
       "GC      133.46\n",
       "NES     125.94\n",
       "GB      114.32\n",
       "PSP     109.17\n",
       "PS4     108.74\n",
       "PC       94.53\n",
       "XOne     93.12\n",
       "2600     90.60\n",
       "3DS      83.49\n",
       "SNES     61.23\n",
       "WiiU     38.10\n",
       "GEN      21.05\n",
       "PSV      12.58\n",
       "DC        5.43\n",
       "SCD       1.00\n",
       "SAT       0.72\n",
       "3DO       0.00\n",
       "PCFX      0.00\n",
       "NG        0.00\n",
       "GG        0.00\n",
       "TG16      0.00\n",
       "WS        0.00\n",
       "Name: na_sales, dtype: float64"
      ]
     },
     "execution_count": 48,
     "metadata": {},
     "output_type": "execute_result"
    }
   ],
   "source": [
    "dados.groupby('platform')['na_sales'].sum().sort_values(ascending=False)"
   ]
  },
  {
   "cell_type": "code",
   "execution_count": 49,
   "metadata": {},
   "outputs": [
    {
     "data": {
      "text/plain": [
       "platform\n",
       "PS2     339.29\n",
       "PS3     330.29\n",
       "X360    270.76\n",
       "Wii     262.21\n",
       "PS      213.61\n",
       "DS      188.89\n",
       "PC      142.44\n",
       "PS4     141.09\n",
       "GBA      75.25\n",
       "PSP      66.68\n",
       "3DS      61.48\n",
       "XB       60.95\n",
       "XOne     51.59\n",
       "GB       47.82\n",
       "N64      41.06\n",
       "GC       38.71\n",
       "WiiU     25.13\n",
       "NES      21.15\n",
       "SNES     19.04\n",
       "PSV      13.12\n",
       "GEN       6.05\n",
       "2600      5.47\n",
       "DC        1.69\n",
       "SAT       0.54\n",
       "SCD       0.36\n",
       "WS        0.00\n",
       "TG16      0.00\n",
       "PCFX      0.00\n",
       "GG        0.00\n",
       "3DO       0.00\n",
       "NG        0.00\n",
       "Name: eu_sales, dtype: float64"
      ]
     },
     "execution_count": 49,
     "metadata": {},
     "output_type": "execute_result"
    }
   ],
   "source": [
    "dados.groupby('platform')['eu_sales'].sum().sort_values(ascending=False)"
   ]
  },
  {
   "cell_type": "code",
   "execution_count": 50,
   "metadata": {},
   "outputs": [
    {
     "data": {
      "text/plain": [
       "platform\n",
       "DS      175.57\n",
       "PS      139.82\n",
       "PS2     139.20\n",
       "SNES    116.55\n",
       "3DS     100.67\n",
       "NES      98.65\n",
       "GB       85.12\n",
       "PS3      80.19\n",
       "PSP      76.78\n",
       "Wii      69.33\n",
       "GBA      47.33\n",
       "N64      34.22\n",
       "SAT      32.26\n",
       "PSV      21.91\n",
       "GC       21.58\n",
       "PS4      15.96\n",
       "WiiU     13.01\n",
       "X360     12.43\n",
       "DC        8.56\n",
       "GEN       2.70\n",
       "NG        1.44\n",
       "WS        1.42\n",
       "XB        1.38\n",
       "SCD       0.45\n",
       "XOne      0.34\n",
       "PC        0.17\n",
       "TG16      0.16\n",
       "3DO       0.10\n",
       "GG        0.04\n",
       "PCFX      0.03\n",
       "2600      0.00\n",
       "Name: jp_sales, dtype: float64"
      ]
     },
     "execution_count": 50,
     "metadata": {},
     "output_type": "execute_result"
    }
   ],
   "source": [
    "dados.groupby('platform')['jp_sales'].sum().sort_values(ascending=False)"
   ]
  },
  {
   "cell_type": "markdown",
   "metadata": {},
   "source": [
    "As cinco principais plataformas nas regiões:\n",
    "- Norte americana: X360, PS2, Wii, PS3 e DS;\n",
    "- Europeia: PS2, PS3, X360, Wii, PS;\n",
    "- Japonesa: DS, PS, PS2, SNES, 3DS\n",
    "\n",
    "Os perfis norte americano e europeu possuem as mesmas plataformas como principais (apenas em ordem diferente), exceto por uma (DS e PS). O perfil japonês é o mais diferente, tendo em comum com as outras apenas o PS2 com a norte americana e PS2 e DS com a europeia."
   ]
  },
  {
   "cell_type": "markdown",
   "metadata": {},
   "source": [
    "Vamos ver os cinco principais gêneros por região"
   ]
  },
  {
   "cell_type": "code",
   "execution_count": 51,
   "metadata": {
    "scrolled": true
   },
   "outputs": [
    {
     "data": {
      "text/plain": [
       "genre\n",
       "Action          879.01\n",
       "Sports          684.43\n",
       "Shooter         592.24\n",
       "Platform        445.50\n",
       "Misc            407.27\n",
       "Racing          359.35\n",
       "Role-Playing    330.81\n",
       "Fighting        223.36\n",
       "Simulation      181.92\n",
       "Puzzle          122.87\n",
       "Adventure       105.26\n",
       "Strategy         68.55\n",
       "Name: na_sales, dtype: float64"
      ]
     },
     "execution_count": 51,
     "metadata": {},
     "output_type": "execute_result"
    }
   ],
   "source": [
    "dados.groupby('genre')['na_sales'].sum().sort_values(ascending=False)"
   ]
  },
  {
   "cell_type": "code",
   "execution_count": 52,
   "metadata": {},
   "outputs": [
    {
     "data": {
      "text/plain": [
       "genre\n",
       "Action          519.13\n",
       "Sports          376.79\n",
       "Shooter         317.34\n",
       "Racing          236.51\n",
       "Misc            212.74\n",
       "Platform        200.35\n",
       "Role-Playing    188.71\n",
       "Simulation      113.52\n",
       "Fighting        100.33\n",
       "Adventure        63.54\n",
       "Puzzle           50.01\n",
       "Strategy         45.17\n",
       "Name: eu_sales, dtype: float64"
      ]
     },
     "execution_count": 52,
     "metadata": {},
     "output_type": "execute_result"
    }
   ],
   "source": [
    "dados.groupby('genre')['eu_sales'].sum().sort_values(ascending=False)"
   ]
  },
  {
   "cell_type": "code",
   "execution_count": 53,
   "metadata": {},
   "outputs": [
    {
     "data": {
      "text/plain": [
       "genre\n",
       "Role-Playing    355.41\n",
       "Action          161.43\n",
       "Sports          135.54\n",
       "Platform        130.83\n",
       "Misc            108.11\n",
       "Fighting         87.48\n",
       "Simulation       63.80\n",
       "Puzzle           57.31\n",
       "Racing           56.71\n",
       "Adventure        52.30\n",
       "Strategy         49.66\n",
       "Shooter          38.76\n",
       "Name: jp_sales, dtype: float64"
      ]
     },
     "execution_count": 53,
     "metadata": {},
     "output_type": "execute_result"
    }
   ],
   "source": [
    "dados.groupby('genre')['jp_sales'].sum().sort_values(ascending=False)"
   ]
  },
  {
   "cell_type": "markdown",
   "metadata": {},
   "source": [
    "Os cinco principais gêneros nas regiões:\n",
    "\n",
    "- Norte americana: Action, Sports, Shooter, Platform, Misc;\n",
    "- Europeia: Action, Sports, Shooter, Racing, Misc;\n",
    "- Japonesa: Role-PLaying, Action, Sports, Platform, Misc\n",
    "\n",
    "Todos os perfis são parecidos, tendo em todos apenas um gênero diferente."
   ]
  },
  {
   "cell_type": "markdown",
   "metadata": {},
   "source": [
    "As classificações do ESRB afetam as vendas em regiões individuais?"
   ]
  },
  {
   "cell_type": "code",
   "execution_count": 54,
   "metadata": {},
   "outputs": [
    {
     "data": {
      "text/plain": [
       "rating\n",
       "E       2535.45\n",
       "T        759.75\n",
       "M        748.48\n",
       "E10+     353.32\n",
       "K-A        2.56\n",
       "EC         1.53\n",
       "AO         1.26\n",
       "RP         0.00\n",
       "Name: na_sales, dtype: float64"
      ]
     },
     "execution_count": 54,
     "metadata": {},
     "output_type": "execute_result"
    }
   ],
   "source": [
    "dados.groupby('rating')['na_sales'].sum().sort_values(ascending=False)"
   ]
  },
  {
   "cell_type": "code",
   "execution_count": 55,
   "metadata": {},
   "outputs": [
    {
     "data": {
      "text/plain": [
       "rating\n",
       "E       1324.08\n",
       "M        483.97\n",
       "T        427.03\n",
       "E10+     188.52\n",
       "AO         0.61\n",
       "K-A        0.27\n",
       "EC         0.11\n",
       "RP         0.08\n",
       "Name: eu_sales, dtype: float64"
      ]
     },
     "execution_count": 55,
     "metadata": {},
     "output_type": "execute_result"
    }
   ],
   "source": [
    "dados.groupby('rating')['eu_sales'].sum().sort_values(ascending=False)"
   ]
  },
  {
   "cell_type": "code",
   "execution_count": 56,
   "metadata": {},
   "outputs": [
    {
     "data": {
      "text/plain": [
       "rating\n",
       "E       1040.07\n",
       "T        151.40\n",
       "M         64.24\n",
       "E10+      40.20\n",
       "K-A        1.46\n",
       "AO         0.00\n",
       "EC         0.00\n",
       "RP         0.00\n",
       "Name: jp_sales, dtype: float64"
      ]
     },
     "execution_count": 56,
     "metadata": {},
     "output_type": "execute_result"
    }
   ],
   "source": [
    "dados.groupby('rating')['jp_sales'].sum().sort_values(ascending=False)"
   ]
  },
  {
   "cell_type": "markdown",
   "metadata": {},
   "source": [
    "A classificação E, T, M e E10+ são as que mais vendem nas 3 regiões, sendo a ordem da norte americana e da japonesa iguais; então a classificação afeta as regiôes de forma igual."
   ]
  },
  {
   "cell_type": "markdown",
   "metadata": {},
   "source": [
    "## Testando hipóteses"
   ]
  },
  {
   "cell_type": "markdown",
   "metadata": {},
   "source": [
    "Nula: As classificações médias dos usuários das plataformas Xbox One e PC são as mesmas. Alternativa: contrária a nula, As classificações médias dos usuários das plataformas Xbox One e PC são diferentes."
   ]
  },
  {
   "cell_type": "code",
   "execution_count": 57,
   "metadata": {},
   "outputs": [],
   "source": [
    "xbox = dados.query('platform == \"XOne\"')\n",
    "pc = dados.query('platform == \"PC\"')"
   ]
  },
  {
   "cell_type": "code",
   "execution_count": 58,
   "metadata": {},
   "outputs": [],
   "source": [
    "xbox_clas = xbox['user_score']\n",
    "pc_clas = pc['user_score']"
   ]
  },
  {
   "cell_type": "markdown",
   "metadata": {},
   "source": [
    "Se as variâncias das populações estatísticas das quais as amostras são retiradas forem aproximadamente iguais equal_var=True; senão equal_var=False"
   ]
  },
  {
   "cell_type": "code",
   "execution_count": 59,
   "metadata": {},
   "outputs": [
    {
     "data": {
      "text/plain": [
       "count    247.000000\n",
       "mean       6.778947\n",
       "std        1.260776\n",
       "min        1.600000\n",
       "25%        6.100000\n",
       "50%        7.200000\n",
       "75%        7.500000\n",
       "max        9.200000\n",
       "Name: user_score, dtype: float64"
      ]
     },
     "execution_count": 59,
     "metadata": {},
     "output_type": "execute_result"
    }
   ],
   "source": [
    "xbox_clas.describe()"
   ]
  },
  {
   "cell_type": "code",
   "execution_count": 60,
   "metadata": {},
   "outputs": [
    {
     "data": {
      "text/plain": [
       "1.5895561221759997"
      ]
     },
     "execution_count": 60,
     "metadata": {},
     "output_type": "execute_result"
    }
   ],
   "source": [
    "# Variância xbox\n",
    "1.260776 * 1.260776"
   ]
  },
  {
   "cell_type": "code",
   "execution_count": 61,
   "metadata": {},
   "outputs": [
    {
     "data": {
      "text/plain": [
       "count    974.000000\n",
       "mean       7.154107\n",
       "std        1.371767\n",
       "min        1.400000\n",
       "25%        6.700000\n",
       "50%        7.500000\n",
       "75%        8.000000\n",
       "max        9.300000\n",
       "Name: user_score, dtype: float64"
      ]
     },
     "execution_count": 61,
     "metadata": {},
     "output_type": "execute_result"
    }
   ],
   "source": [
    "pc_clas.describe()"
   ]
  },
  {
   "cell_type": "code",
   "execution_count": 62,
   "metadata": {},
   "outputs": [
    {
     "data": {
      "text/plain": [
       "1.881744702289"
      ]
     },
     "execution_count": 62,
     "metadata": {},
     "output_type": "execute_result"
    }
   ],
   "source": [
    "1.371767 * 1.371767"
   ]
  },
  {
   "cell_type": "code",
   "execution_count": 63,
   "metadata": {},
   "outputs": [
    {
     "name": "stdout",
     "output_type": "stream",
     "text": [
      "p-value:  0.00010123955107193582\n"
     ]
    }
   ],
   "source": [
    "results = st.ttest_ind(xbox_clas, pc_clas)\n",
    "print('p-value: ', results.pvalue)"
   ]
  },
  {
   "cell_type": "code",
   "execution_count": 64,
   "metadata": {},
   "outputs": [
    {
     "name": "stdout",
     "output_type": "stream",
     "text": [
      "Nós rejeitamos a hipótese nula\n"
     ]
    }
   ],
   "source": [
    "alpha = 0.05\n",
    "if results.pvalue < alpha:\n",
    "    print(\"Nós rejeitamos a hipótese nula\")\n",
    "else:\n",
    "    print(\"Nós não podemos rejeitar a hipótese nula\")"
   ]
  },
  {
   "cell_type": "markdown",
   "metadata": {},
   "source": [
    "Nós rejeitamos a hipótese que as classificações médias dos usuários das plataformas Xbox One e PC são as mesmas, elas são próximas, mas não são iguais."
   ]
  },
  {
   "cell_type": "markdown",
   "metadata": {},
   "source": [
    "Nula: As classificações médias de usuários para os gêneros Action (ação) e Sports (esportes) são iguais. Alternativa: contrária a nula, as classificações médias de usuários para os gêneros Action (ação) e Sports (esportes) são diferentes."
   ]
  },
  {
   "cell_type": "code",
   "execution_count": 72,
   "metadata": {},
   "outputs": [],
   "source": [
    "action = dados.query('genre == \"Action\"')\n",
    "sports = dados.query('genre == \"Sports\"')\n",
    "action_clas = action['user_score']\n",
    "sports_clas = sports['user_score']"
   ]
  },
  {
   "cell_type": "code",
   "execution_count": 73,
   "metadata": {},
   "outputs": [
    {
     "data": {
      "text/plain": [
       "count    3369.000000\n",
       "mean        7.257762\n",
       "std         1.073642\n",
       "min         0.300000\n",
       "25%         7.200000\n",
       "50%         7.500000\n",
       "75%         7.500000\n",
       "max         9.500000\n",
       "Name: user_score, dtype: float64"
      ]
     },
     "execution_count": 73,
     "metadata": {},
     "output_type": "execute_result"
    }
   ],
   "source": [
    "action_clas.describe()"
   ]
  },
  {
   "cell_type": "code",
   "execution_count": 74,
   "metadata": {},
   "outputs": [
    {
     "data": {
      "text/plain": [
       "1.152707144164"
      ]
     },
     "execution_count": 74,
     "metadata": {},
     "output_type": "execute_result"
    }
   ],
   "source": [
    "# Variância action\n",
    "1.073642 * 1.073642"
   ]
  },
  {
   "cell_type": "code",
   "execution_count": 75,
   "metadata": {},
   "outputs": [
    {
     "data": {
      "text/plain": [
       "count    2348.000000\n",
       "mean        7.246891\n",
       "std         1.136441\n",
       "min         0.200000\n",
       "25%         7.500000\n",
       "50%         7.500000\n",
       "75%         7.500000\n",
       "max         9.500000\n",
       "Name: user_score, dtype: float64"
      ]
     },
     "execution_count": 75,
     "metadata": {},
     "output_type": "execute_result"
    }
   ],
   "source": [
    "sports_clas.describe()"
   ]
  },
  {
   "cell_type": "code",
   "execution_count": 76,
   "metadata": {},
   "outputs": [
    {
     "data": {
      "text/plain": [
       "1.291498146481"
      ]
     },
     "execution_count": 76,
     "metadata": {},
     "output_type": "execute_result"
    }
   ],
   "source": [
    "# Variância sports\n",
    "1.136441 * 1.136441"
   ]
  },
  {
   "cell_type": "markdown",
   "metadata": {},
   "source": [
    "As variâncias são aproximadamente iguais."
   ]
  },
  {
   "cell_type": "code",
   "execution_count": 84,
   "metadata": {},
   "outputs": [
    {
     "name": "stdout",
     "output_type": "stream",
     "text": [
      "p-value:  0.7131417795320426\n",
      "p-value:  0.7159128316394157\n"
     ]
    }
   ],
   "source": [
    "results = st.ttest_ind(action_clas, sports_clas)\n",
    "print('p-value: ', results.pvalue)\n",
    "results = st.ttest_ind(action_clas, sports_clas)\n",
    "print('p-value: ', results.pvalue)"
   ]
  },
  {
   "cell_type": "code",
   "execution_count": 85,
   "metadata": {},
   "outputs": [
    {
     "name": "stdout",
     "output_type": "stream",
     "text": [
      "Nós não podemos rejeitar a hipótese nula\n"
     ]
    }
   ],
   "source": [
    "alpha = 0.05\n",
    "if results.pvalue < alpha:\n",
    "    print(\"Nós rejeitamos a hipótese nula\")\n",
    "else:\n",
    "    print(\"Nós não podemos rejeitar a hipótese nula\")"
   ]
  },
  {
   "cell_type": "markdown",
   "metadata": {},
   "source": [
    "Nós não podemos rejeitar a hipótese que as classificações médias de usuários para os gêneros Action (ação) e Sports (esportes) são iguais."
   ]
  },
  {
   "cell_type": "markdown",
   "metadata": {},
   "source": [
    "## Conclusão Geral"
   ]
  },
  {
   "cell_type": "markdown",
   "metadata": {},
   "source": [
    "Iniciei importando as bibliotecas pandas e seaborn e carregando o DataFrame com os dados sobre vendas de jogos.\n",
    "\n",
    "Em seguida, o pré processamento dos dados, onde:\n",
    "- Substitui os nomes das colunas, que estavam com letras maiúsculas, por letras minúsculas;\n",
    "- Mudei o tipo de dados das colunas 'user_score' para o tipo float e a coluna 'year_of_release' para o tipo int;\n",
    "- Não foram encontrados dados duplicados;\n",
    "- A coluna 'name' possuia 2 valores ausentes, que substitui com 'unknown';\n",
    "- Nas coluna 'year_of_release', 'user_score' e 'critic_score', preenchi os valores ausentes com a mediana;\n",
    "- Na coluna 'rating', preenchi os valores ausentes com a moda;\n",
    "- Para enriquecer o DataFrame, calculei o total de vendas (a soma das vendas em todas as regiões) para cada jogo e coloquei os resultados em uma nova coluna ('total_sales').\n",
    "\n",
    "A partir disso, iniciei a análise:\n",
    "- Vendo quantos jogos foram lançados em anos diferentes, percebemos que no período de 2002 a 2011 foram os anos que mais lançaram jogos, até pelo aumento da tecnologia e acesso dos usuários as plataformas. \n",
    "- Depois olhei a variação das vendas por plataforma e percebi que as com maiores vendas são PS2, X360, PS3, Wii, DS e PS. \n",
    "- As plataformas PS, DS e PS2 costumavam ser populares, e agora não tem mais vendas. Leva em torno de 9 a 11 anos paras as plataformas antigas desaparecerem e analisando no período de 2000 a 2016 (período que apareceram mais de 1 plataforma com maiores vendas) em torno de 3 a 5 anos para novas plataformas aparecem desde o desaparecimento da primeira plataforma com mais vendas que surgiu. \n",
    "- A plataforma que lidera em vendas nesse ano (2016) é a PS4. \n",
    "- Nos últimos 5 anos (2011 a 2016) não houveram plataformas que estão crescendo, apenas diminuindo ou se mantendo. \n",
    "- Sobre as vendas globais de todos os jogos, todos variam na faixa de 0 a 38, apenas o jogo “Wii Sports” está acima de 80, havendo uma diferença significativa entre ele e os outros jogos, o que pode significar que ele vendeu muito mais que os outros ou então é bem mais caro. \n",
    "- A respeito das avaliações, vemos que as maiores vendas provém de jogos com pontuações maiores de profissionais, havendo uma correlação de 33% com as vendas (não é uma correlação forte, mas existe); enquanto com a pontuação dos usuários há uma correlação negativa de -6, ou seja, quase nula. \n",
    "- Os gêneros mais lucrativos são: Action, Sports e Shooter. \n",
    "\n",
    "Sobre os perfis de cada região: \n",
    "- Norte americana é a que tem maiores vendas, seguida da europeia e japonesa, nessa ordem, sendo uma quase o dobro da anterior. \n",
    "- Em relação as 5 principais plataformas, a norte americana é parecida com a europeia, havendo diferença de apenas 1 plataforma, enquanto a japonesa é a mais diferente. \n",
    "- Em relação aos 5 principais gêneros, todos os perfis são parecidos, havendo diferença entre elas de apenas 1 gênero. \n",
    "- Em relação as classificações, elas afetam as regiões da mesma forma, sendo praticamente iguais em relação às vendas para cada região. \n",
    "\n",
    "Padrões que determinam se um jogo tem sucesso ou não:\n",
    "- Jogos lançados entre 2000 e 2016, ou seja, mais modernos, tem maiores chances de sucesso, até porque os usuários passaram a ter mais acesso às plataformas, o que é comprovado também pelo aumento de lançamentos nesse período.\n",
    "- Jogos com maiores pontuações de profissionais tendem a ter mais sucesso que outros.\n",
    "- Jogos das plataformas mais conhecidas (PS2, PS3, PS4, Wii, X360 e DS) também tendem a ter mais sucesso.\n",
    "- Jogos do gênero Action, Sports, Role-Playing,  Platform e Misc tendem a ter mais sucesso.\n",
    "\n",
    "Sobre as hipóteses: \n",
    "- Nós rejeitamos a hipótese que as classificações médias dos usuários das plataformas Xbox One e PC são as mesmas, elas são próximas, mas não são iguais.\n",
    "- Nós não podemos rejeitar a hipótese que as classificações médias de usuários para os gêneros Action (ação) e Sports (esportes) são iguais. \n"
   ]
  }
 ],
 "metadata": {
  "kernelspec": {
   "display_name": "Python 3 (ipykernel)",
   "language": "python",
   "name": "python3"
  },
  "language_info": {
   "codemirror_mode": {
    "name": "ipython",
    "version": 3
   },
   "file_extension": ".py",
   "mimetype": "text/x-python",
   "name": "python",
   "nbconvert_exporter": "python",
   "pygments_lexer": "ipython3",
   "version": "3.9.5"
  },
  "toc": {
   "base_numbering": 1,
   "nav_menu": {},
   "number_sections": true,
   "sideBar": true,
   "skip_h1_title": true,
   "title_cell": "Table of Contents",
   "title_sidebar": "Contents",
   "toc_cell": false,
   "toc_position": {},
   "toc_section_display": true,
   "toc_window_display": false
  }
 },
 "nbformat": 4,
 "nbformat_minor": 2
}
